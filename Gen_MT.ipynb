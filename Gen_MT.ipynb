{
  "nbformat": 4,
  "nbformat_minor": 0,
  "metadata": {
    "colab": {
      "name": "Gen_MT.ipynb의 사본",
      "provenance": [],
      "collapsed_sections": [],
      "include_colab_link": true
    },
    "kernelspec": {
      "name": "python3",
      "display_name": "Python 3"
    },
    "language_info": {
      "name": "python"
    }
  },
  "cells": [
    {
      "cell_type": "markdown",
      "metadata": {
        "id": "view-in-github",
        "colab_type": "text"
      },
      "source": [
        "<a href=\"https://colab.research.google.com/github/jeongeun/exercise/blob/master/Gen_MT.ipynb\" target=\"_parent\"><img src=\"https://colab.research.google.com/assets/colab-badge.svg\" alt=\"Open In Colab\"/></a>"
      ]
    },
    {
      "cell_type": "code",
      "metadata": {
        "id": "VRefscmdASeR"
      },
      "source": [
        "from google.colab import drive\n",
        "drive.mount(\"/content/drive\")"
      ],
      "execution_count": null,
      "outputs": []
    },
    {
      "cell_type": "code",
      "metadata": {
        "id": "NUtXUjdPAXFR",
        "colab": {
          "base_uri": "https://localhost:8080/",
          "height": 935
        },
        "outputId": "05fe932d-248f-4a40-c55f-52df27dcb30f"
      },
      "source": [
        "pip install awkward1 mplhep uproot3"
      ],
      "execution_count": null,
      "outputs": [
        {
          "output_type": "stream",
          "name": "stdout",
          "text": [
            "Collecting awkward1\n",
            "  Downloading awkward1-1.0.0-py3-none-any.whl (4.7 kB)\n",
            "Collecting mplhep\n",
            "  Downloading mplhep-0.3.15-py3-none-any.whl (33 kB)\n",
            "Collecting uproot3\n",
            "  Downloading uproot3-3.14.4-py3-none-any.whl (117 kB)\n",
            "\u001b[K     |████████████████████████████████| 117 kB 6.1 MB/s \n",
            "\u001b[?25hCollecting awkward>=1.0.0\n",
            "  Downloading awkward-1.7.0-cp37-cp37m-manylinux2010_x86_64.whl (14.5 MB)\n",
            "\u001b[K     |████████████████████████████████| 14.5 MB 12.3 MB/s \n",
            "\u001b[?25hRequirement already satisfied: setuptools in /usr/local/lib/python3.7/dist-packages (from awkward>=1.0.0->awkward1) (57.4.0)\n",
            "Requirement already satisfied: numpy>=1.13.1 in /usr/local/lib/python3.7/dist-packages (from awkward>=1.0.0->awkward1) (1.19.5)\n",
            "Collecting matplotlib>=3.4\n",
            "  Downloading matplotlib-3.5.1-cp37-cp37m-manylinux_2_5_x86_64.manylinux1_x86_64.whl (11.2 MB)\n",
            "\u001b[K     |████████████████████████████████| 11.2 MB 21.6 MB/s \n",
            "\u001b[?25hRequirement already satisfied: packaging in /usr/local/lib/python3.7/dist-packages (from mplhep) (21.3)\n",
            "Collecting mplhep-data\n",
            "  Downloading mplhep_data-0.0.3-py3-none-any.whl (5.8 MB)\n",
            "\u001b[K     |████████████████████████████████| 5.8 MB 50.3 MB/s \n",
            "\u001b[?25hCollecting uhi>=0.2.0\n",
            "  Downloading uhi-0.3.0-py3-none-any.whl (9.8 kB)\n",
            "Requirement already satisfied: pyparsing>=2.2.1 in /usr/local/lib/python3.7/dist-packages (from matplotlib>=3.4->mplhep) (3.0.6)\n",
            "Requirement already satisfied: python-dateutil>=2.7 in /usr/local/lib/python3.7/dist-packages (from matplotlib>=3.4->mplhep) (2.8.2)\n",
            "Requirement already satisfied: kiwisolver>=1.0.1 in /usr/local/lib/python3.7/dist-packages (from matplotlib>=3.4->mplhep) (1.3.2)\n",
            "Requirement already satisfied: pillow>=6.2.0 in /usr/local/lib/python3.7/dist-packages (from matplotlib>=3.4->mplhep) (7.1.2)\n",
            "Collecting fonttools>=4.22.0\n",
            "  Downloading fonttools-4.28.3-py3-none-any.whl (884 kB)\n",
            "\u001b[K     |████████████████████████████████| 884 kB 45.2 MB/s \n",
            "\u001b[?25hRequirement already satisfied: cycler>=0.10 in /usr/local/lib/python3.7/dist-packages (from matplotlib>=3.4->mplhep) (0.11.0)\n",
            "Requirement already satisfied: six>=1.5 in /usr/local/lib/python3.7/dist-packages (from python-dateutil>=2.7->matplotlib>=3.4->mplhep) (1.15.0)\n",
            "Requirement already satisfied: typing_extensions>=3.7 in /usr/local/lib/python3.7/dist-packages (from uhi>=0.2.0->mplhep) (3.10.0.2)\n",
            "Collecting awkward0\n",
            "  Downloading awkward0-0.15.5-py3-none-any.whl (87 kB)\n",
            "\u001b[K     |████████████████████████████████| 87 kB 5.3 MB/s \n",
            "\u001b[?25hRequirement already satisfied: cachetools in /usr/local/lib/python3.7/dist-packages (from uproot3) (4.2.4)\n",
            "Collecting uproot3-methods\n",
            "  Downloading uproot3_methods-0.10.1-py3-none-any.whl (32 kB)\n",
            "Installing collected packages: fonttools, awkward0, uproot3-methods, uhi, mplhep-data, matplotlib, awkward, uproot3, mplhep, awkward1\n",
            "  Attempting uninstall: matplotlib\n",
            "    Found existing installation: matplotlib 3.2.2\n",
            "    Uninstalling matplotlib-3.2.2:\n",
            "      Successfully uninstalled matplotlib-3.2.2\n",
            "\u001b[31mERROR: pip's dependency resolver does not currently take into account all the packages that are installed. This behaviour is the source of the following dependency conflicts.\n",
            "albumentations 0.1.12 requires imgaug<0.2.7,>=0.2.5, but you have imgaug 0.2.9 which is incompatible.\u001b[0m\n",
            "Successfully installed awkward-1.7.0 awkward0-0.15.5 awkward1-1.0.0 fonttools-4.28.3 matplotlib-3.5.1 mplhep-0.3.15 mplhep-data-0.0.3 uhi-0.3.0 uproot3-3.14.4 uproot3-methods-0.10.1\n"
          ]
        },
        {
          "output_type": "display_data",
          "data": {
            "application/vnd.colab-display-data+json": {
              "pip_warning": {
                "packages": [
                  "matplotlib",
                  "mpl_toolkits"
                ]
              }
            }
          },
          "metadata": {}
        }
      ]
    },
    {
      "cell_type": "code",
      "source": [
        "python -version\n"
      ],
      "metadata": {
        "id": "RI3AC4UXtY0S",
        "outputId": "067a8819-2a68-4985-e37d-920cb80c0a71",
        "colab": {
          "base_uri": "https://localhost:8080/",
          "height": 174
        }
      },
      "execution_count": null,
      "outputs": [
        {
          "output_type": "error",
          "ename": "NameError",
          "evalue": "ignored",
          "traceback": [
            "\u001b[0;31m---------------------------------------------------------------------------\u001b[0m",
            "\u001b[0;31mNameError\u001b[0m                                 Traceback (most recent call last)",
            "\u001b[0;32m<ipython-input-3-b9432156fa10>\u001b[0m in \u001b[0;36m<module>\u001b[0;34m()\u001b[0m\n\u001b[0;32m----> 1\u001b[0;31m \u001b[0mpython\u001b[0m \u001b[0;34m-\u001b[0m\u001b[0mversion\u001b[0m\u001b[0;34m\u001b[0m\u001b[0;34m\u001b[0m\u001b[0m\n\u001b[0m",
            "\u001b[0;31mNameError\u001b[0m: name 'python' is not defined"
          ]
        }
      ]
    },
    {
      "cell_type": "code",
      "metadata": {
        "id": "kw14WN5lAZvZ"
      },
      "source": [
        "import uproot3\n",
        "import numpy as np\n",
        "import awkward1 as ak\n",
        "import matplotlib.pyplot as plt\n",
        "import mplhep as hep\n",
        "from uproot3_methods import TVector2Array, TLorentzVectorArray"
      ],
      "execution_count": null,
      "outputs": []
    },
    {
      "cell_type": "code",
      "metadata": {
        "id": "gRvzt7y-AdSt"
      },
      "source": [
        "dat = uproot3.lazyarrays('drive/MyDrive/WZG/*.root',\"Delphes\")"
      ],
      "execution_count": null,
      "outputs": []
    },
    {
      "cell_type": "code",
      "metadata": {
        "id": "gHKv-AeqAseW"
      },
      "source": [
        "PID_arr = dat['Particle.PID']\n",
        "Ppt_arr = dat['Particle.PT']\n",
        "Peta_arr = dat['Particle.Eta']\n",
        "Pphi_arr = dat['Particle.Phi']\n",
        "PE_arr = dat['Particle.E']\n",
        "PC_arr = dat['Particle.Charge']"
      ],
      "execution_count": null,
      "outputs": []
    },
    {
      "cell_type": "code",
      "metadata": {
        "id": "w4TJDdYZAuoS"
      },
      "source": [
        "elept,eleeta,elephi,eleE,eleC = Ppt_arr[PID_arr == 11], Peta_arr[PID_arr == 11],Pphi_arr[PID_arr == 11],PE_arr[PID_arr == 11],PC_arr[PID_arr == 11]\n",
        "enupt,enueta,enuphi,enuE = Ppt_arr[PID_arr == -12], Peta_arr[PID_arr == -12],Pphi_arr[PID_arr == -12],PE_arr[PID_arr == -12]\n",
        "\n",
        "mupt,mueta,muphi,muE,muC = Ppt_arr[PID_arr == 13], Peta_arr[PID_arr == 13],Pphi_arr[PID_arr == 13],PE_arr[PID_arr == 13],PC_arr[PID_arr == 13]\n",
        "mnupt,mnueta,mnuphi,mnuE = Ppt_arr[PID_arr == -14], Peta_arr[PID_arr == -14],Pphi_arr[PID_arr == -14],PE_arr[PID_arr == -14]"
      ],
      "execution_count": null,
      "outputs": []
    },
    {
      "cell_type": "code",
      "metadata": {
        "id": "wLnVdLnqA0mk"
      },
      "source": [
        "Electron = ak.zip({\n",
        "\n",
        "\"PT\" : elept,\n",
        "\"Eta\" : eleeta,\n",
        "\"Phi\" : elephi,\n",
        "\"Charge\" : eleC,\n",
        "\"T\" : eleE\n",
        "\n",
        "})\n",
        "\n",
        "Enu = ak.zip({\n",
        "\n",
        "\"PT\" : enupt,\n",
        "\"Eta\" : enueta,\n",
        "\"Phi\" : enuphi,\n",
        "\"T\" : enuE\n",
        "\n",
        "})\n",
        "\n",
        "Muon = ak.zip({\n",
        "\n",
        "\"PT\" : mupt,\n",
        "\"Eta\" : mueta,\n",
        "\"Phi\" : muphi,\n",
        "\"Charge\" : muC,\n",
        "\"T\" : muE\n",
        "\n",
        "})\n",
        "\n",
        "Mnu = ak.zip({\n",
        "\n",
        "\"PT\" : mnupt,\n",
        "\"Eta\" : mnueta,\n",
        "\"Phi\" : mnuphi,\n",
        "\"T\" : mnuE\n",
        "\n",
        "})"
      ],
      "execution_count": null,
      "outputs": []
    },
    {
      "cell_type": "code",
      "metadata": {
        "id": "CGBVat7HA63P"
      },
      "source": [
        "def PT_cut(Electron, Enu, Muon, Mnu):\n",
        "\n",
        "        Electron_mask = Electron.PT > 25\n",
        "        Enu_mask = Enu.PT > 25\n",
        "        Muon_mask = Muon.PT > 25\n",
        "        Mnu_mask = Mnu.PT > 25\n",
        "\n",
        "        return Electron_mask, Enu_mask, Muon_mask, Mnu_mask"
      ],
      "execution_count": null,
      "outputs": []
    },
    {
      "cell_type": "code",
      "metadata": {
        "id": "dQJ59vb6A-Hh"
      },
      "source": [
        "Electron_mask, Enu_mask, Muon_mask, Mnu_mask = PT_cut(Electron, Enu, Muon, Mnu)"
      ],
      "execution_count": null,
      "outputs": []
    },
    {
      "cell_type": "code",
      "metadata": {
        "id": "l6shGAR_BAbF"
      },
      "source": [
        "Electron = Electron[Electron_mask]\n",
        "Enu = Enu[Enu_mask]\n",
        "Muon = Muon[Muon_mask]\n",
        "Mnu = Mnu[Mnu_mask]"
      ],
      "execution_count": null,
      "outputs": []
    },
    {
      "cell_type": "code",
      "metadata": {
        "id": "1lhiFu6MBEn9"
      },
      "source": [
        "Ele_eem_mask = ak.num(Electron) > 1\n",
        "Mu_eem_mask = ak.num(Muon) > 0\n",
        "Enu_eem_mask = ak.num(Enu) == 0\n",
        "Mnu_eem_mask = ak.num(Mnu) > 0"
      ],
      "execution_count": null,
      "outputs": []
    },
    {
      "cell_type": "code",
      "metadata": {
        "id": "roBaaZomBHcE"
      },
      "source": [
        "eem_mask = Ele_eem_mask & Mu_eem_mask & Enu_eem_mask & Mnu_eem_mask\n",
        "\n",
        "eem_ele = Electron[eem_mask]\n",
        "eem_mu = Muon[eem_mask]\n",
        "eem_Enu = Enu[eem_mask]\n",
        "eem_Mnu = Mnu[eem_mask]"
      ],
      "execution_count": null,
      "outputs": []
    },
    {
      "cell_type": "code",
      "metadata": {
        "id": "zXeMh_yBB8j1"
      },
      "source": [
        "eem_lead_mu = eem_mu[ak.argmax(eem_mu.PT, axis=1, keepdims=True)]\n",
        "eem_Mnu = eem_Mnu[ak.argmax(eem_Mnu.PT, axis=1, keepdims=True)]"
      ],
      "execution_count": null,
      "outputs": []
    },
    {
      "cell_type": "code",
      "metadata": {
        "id": "kRPOds_oCCDs"
      },
      "source": [
        "muon_pt = eem_lead_mu.PT\n",
        "MET_MET = eem_Mnu.PT\n",
        "\n",
        "muon_phi = eem_lead_mu.Phi\n",
        "MET_phi = eem_Mnu.Phi\n",
        "\n",
        "muon_pt = ak.flatten(muon_pt)\n",
        "MET_MET = ak.flatten(MET_MET)\n",
        "\n",
        "muon_phi = ak.flatten(muon_phi)\n",
        "MET_phi = ak.flatten(MET_phi)"
      ],
      "execution_count": null,
      "outputs": []
    },
    {
      "cell_type": "code",
      "metadata": {
        "id": "8UxEPKunCG4W"
      },
      "source": [
        "print(muon_pt)\n",
        "print(len(muon_pt))\n",
        "print(len(MET_MET))"
      ],
      "execution_count": null,
      "outputs": []
    },
    {
      "cell_type": "code",
      "metadata": {
        "id": "ODDE-0owCMRO"
      },
      "source": [
        "lep3_T2Vec = TVector2Array.from_polar(muon_pt, muon_phi)\n",
        "eem_MET_T2Vec = TVector2Array.from_polar(MET_MET, MET_phi)\n",
        "\n",
        "MT_m = np.sqrt(2*(muon_pt)*(MET_MET)*(1-np.cos(np.abs(eem_MET_T2Vec.delta_phi(lep3_T2Vec)))))"
      ],
      "execution_count": null,
      "outputs": []
    },
    {
      "cell_type": "code",
      "metadata": {
        "id": "NVTIPiqkCOlC"
      },
      "source": [
        "histo = {}\n",
        "histo['MT'] = MT_m\n",
        "\n",
        "outname = \"eem_MT.npy\"\n",
        "\n",
        "np.save(outname, histo)"
      ],
      "execution_count": null,
      "outputs": []
    }
  ]
}